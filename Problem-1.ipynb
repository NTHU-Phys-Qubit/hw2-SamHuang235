{
 "cells": [
  {
   "cell_type": "code",
   "execution_count": 1,
   "metadata": {},
   "outputs": [],
   "source": [
    "import numpy as np\n",
    "import matplotlib.pyplot as plt"
   ]
  },
  {
   "cell_type": "markdown",
   "metadata": {},
   "source": [
    "# 1D Ising model + Transfer matrix\n",
    "\n",
    "* Construct the transfer matrix at temperature $T$ with external field $B$\n",
    "* Find the eivenvalues of the transfer matrix and compare to the exact results.\n",
    "* Evaluate the partition function $Z$ at different system size $N$ and $T$, $B$. Compare to the exact results.\n",
    "* For a fixed $N$, $T$, $B$, evaluate $\\langle S_0 S_j\\rangle$ where $j=0,1,\\cdots N$. \n",
    "* Plot $\\langle S_0 S_j\\rangle$ up to $j=N/2$ and show that it decays exponentially.\n",
    "  * Please try several $N$, $T$, $B$. What is the largest $N$ you can go? What is the lowest $T$ you can go?"
   ]
  },
  {
   "cell_type": "code",
   "execution_count": 2,
   "metadata": {},
   "outputs": [
    {
     "name": "stdout",
     "output_type": "stream",
     "text": [
      "[[2.71828183 0.60653066]\n",
      " [0.60653066 1.        ]]\n"
     ]
    }
   ],
   "source": [
    "J = 1\n",
    "kb = 1\n",
    "N = 8\n",
    "T = 2\n",
    "B = 1\n",
    "def R(T,B):\n",
    "    return np.array([[np.e**((J+B)/(kb*T)),np.e**(-J/(kb*T))],\n",
    "                     [np.e**(-J/(kb*T)),np.e**((J-B)/(kb*T))]])\n",
    "print (R(T,B))"
   ]
  },
  {
   "cell_type": "code",
   "execution_count": 3,
   "metadata": {},
   "outputs": [
    {
     "name": "stdout",
     "output_type": "stream",
     "text": [
      "solution =  [0.09881162 2.02742856]\n",
      "exact_solution =  [0.09881162 2.02742856]\n"
     ]
    }
   ],
   "source": [
    "N = 8\n",
    "T = 20\n",
    "B = 3\n",
    "def solution(T,B):\n",
    "    return np.linalg.eigvalsh(R(T,B))\n",
    "def exact_solution(T,B):\n",
    "    return np.array([np.e**(J/(kb*T))*(np.cosh(B/(kb*T))-(((np.sinh(B/(kb*T)))**2+np.e**(-4*J/(kb*T))))**0.5),\n",
    "                     np.e**(J/(kb*T))*(np.cosh(B/(kb*T))+(((np.sinh(B/(kb*T)))**2+np.e**(-4*J/(kb*T))))**0.5)])\n",
    "print(\"solution = \",solution(20,3))\n",
    "print(\"exact_solution = \",exact_solution(20,3))"
   ]
  },
  {
   "cell_type": "code",
   "execution_count": 4,
   "metadata": {},
   "outputs": [
    {
     "name": "stdout",
     "output_type": "stream",
     "text": [
      "exact_solution =  339.5848340756952\n",
      "solution =  339.5848340756945\n"
     ]
    }
   ],
   "source": [
    "N = 8\n",
    "T = 20\n",
    "B = 5\n",
    "def Z(N,T,B):\n",
    "    for i in range(N):\n",
    "        if i == 0:\n",
    "            z = R(T,B)\n",
    "        else:\n",
    "            z = np.dot(z,R(T,B))\n",
    "    return z\n",
    "def exact_Z(N,T,B):\n",
    "    return exact_solution(T,B)[0]**N+exact_solution(T,B)[1]**N\n",
    "print(\"exact_solution = \",exact_Z(N,T,B))\n",
    "print(\"solution = \",np.trace(Z(N,T,B)))"
   ]
  },
  {
   "cell_type": "code",
   "execution_count": 5,
   "metadata": {},
   "outputs": [
    {
     "name": "stdout",
     "output_type": "stream",
     "text": [
      "For N =  50  T =  1  B =  0\n",
      "\n"
     ]
    },
    {
     "data": {
      "image/png": "[encoded data removed]",
      "text/plain": [
       "<Figure size 432x288 with 1 Axes>"
      ]
     },
     "metadata": {
      "needs_background": "light"
     },
     "output_type": "display_data"
    }
   ],
   "source": [
    "N = 50\n",
    "T = 1\n",
    "B = 0\n",
    "impurity = np.array([[1,0],[0,-1]])\n",
    "def S(j):\n",
    "    s = np.eye(2)\n",
    "    for x in range(N):\n",
    "        if x == 0:\n",
    "            s = np.dot(s,impurity)\n",
    "        if x == j:\n",
    "            s = np.dot(s,impurity)\n",
    "        s = np.dot(s,R(T,B))\n",
    "    return np.trace(s)/np.trace(Z(N,T,B))\n",
    "print (\"For N = \",N,\" T = \",T,\" B = \",B)\n",
    "#for i in range(N):\n",
    "#    print (\"For j = \",i,\" S(0,j) = \",S(i))\n",
    "v = np.zeros(N+1)\n",
    "for i in range (N):\n",
    "    v[i] = S(i)\n",
    "v[N]=S(0)\n",
    "plt.plot(v,'o')\n",
    "print()"
   ]
  },
  {
   "cell_type": "code",
   "execution_count": 6,
   "metadata": {},
   "outputs": [
    {
     "name": "stdout",
     "output_type": "stream",
     "text": [
      "For N =  50  T =  1  B =  0\n",
      "\n"
     ]
    },
    {
     "data": {
      "image/png": "[encoded data removed]",
      "text/plain": [
       "<Figure size 432x288 with 1 Axes>"
      ]
     },
     "metadata": {
      "needs_background": "light"
     },
     "output_type": "display_data"
    }
   ],
   "source": [
    "v = np.zeros(int(N/2))\n",
    "for i in range (int(N/2)):\n",
    "    v[i] = S(i)\n",
    "plt.plot(v)\n",
    "print (\"For N = \",N,\" T = \",T,\" B = \",B)\n",
    "print()"
   ]
  },
  {
   "cell_type": "code",
   "execution_count": 12,
   "metadata": {
    "scrolled": false
   },
   "outputs": [
    {
     "name": "stdout",
     "output_type": "stream",
     "text": [
      "According to the figures, we find that T can not less than 0.12 in the case N = 50,  B = 0.1\n"
     ]
    },
    {
     "ename": "TypeError",
     "evalue": "title() takes from 1 to 4 positional arguments but 6 were given",
     "output_type": "error",
     "traceback": [
      "\u001b[1;31m---------------------------------------------------------------------------\u001b[0m",
      "\u001b[1;31mTypeError\u001b[0m                                 Traceback (most recent call last)",
      "\u001b[1;32m<ipython-input-12-49082d343aa0>\u001b[0m in \u001b[0;36m<module>\u001b[1;34m\u001b[0m\n\u001b[0;32m     38\u001b[0m \u001b[0mplt\u001b[0m\u001b[1;33m.\u001b[0m\u001b[0msubplot\u001b[0m\u001b[1;33m(\u001b[0m\u001b[1;36m1\u001b[0m\u001b[1;33m,\u001b[0m\u001b[1;36m2\u001b[0m\u001b[1;33m,\u001b[0m\u001b[1;36m2\u001b[0m\u001b[1;33m)\u001b[0m\u001b[1;33m\u001b[0m\u001b[1;33m\u001b[0m\u001b[0m\n\u001b[0;32m     39\u001b[0m \u001b[0mplt\u001b[0m\u001b[1;33m.\u001b[0m\u001b[0mplot\u001b[0m\u001b[1;33m(\u001b[0m\u001b[0mw\u001b[0m\u001b[1;33m,\u001b[0m\u001b[1;34m'b'\u001b[0m\u001b[1;33m)\u001b[0m\u001b[1;33m\u001b[0m\u001b[1;33m\u001b[0m\u001b[0m\n\u001b[1;32m---> 40\u001b[1;33m \u001b[0mplt\u001b[0m\u001b[1;33m.\u001b[0m\u001b[0mtitle\u001b[0m\u001b[1;33m(\u001b[0m\u001b[1;34m\"For N = \"\u001b[0m\u001b[1;33m,\u001b[0m\u001b[0mN1\u001b[0m\u001b[1;33m,\u001b[0m\u001b[1;34m\" T = \"\u001b[0m\u001b[1;33m,\u001b[0m\u001b[0mT1\u001b[0m\u001b[1;33m,\u001b[0m\u001b[1;34m\" B = \"\u001b[0m\u001b[1;33m,\u001b[0m\u001b[0mB1\u001b[0m\u001b[1;33m)\u001b[0m\u001b[1;33m\u001b[0m\u001b[1;33m\u001b[0m\u001b[0m\n\u001b[0m\u001b[0;32m     41\u001b[0m \u001b[0mplt\u001b[0m\u001b[1;33m.\u001b[0m\u001b[0mshow\u001b[0m\u001b[1;33m(\u001b[0m\u001b[1;33m)\u001b[0m\u001b[1;33m\u001b[0m\u001b[1;33m\u001b[0m\u001b[0m\n",
      "\u001b[1;31mTypeError\u001b[0m: title() takes from 1 to 4 positional arguments but 6 were given"
     ]
    },
    {
     "data": {
      "image/png": "[encoded data removed]",
      "text/plain": [
       "<Figure size 1440x720 with 2 Axes>"
      ]
     },
     "metadata": {
      "needs_background": "light"
     },
     "output_type": "display_data"
    }
   ],
   "source": [
    "N = 50\n",
    "T = 0.12\n",
    "B = 0.01\n",
    "impurity = np.array([[1,0],[0,-1]])\n",
    "def S(j):\n",
    "    s = np.eye(2)\n",
    "    for x in range(N):\n",
    "        if x == 0:\n",
    "            s = np.dot(s,impurity)\n",
    "        if x == j:\n",
    "            s = np.dot(s,impurity)\n",
    "        s = np.dot(s,R(T,B))\n",
    "    return np.trace(s)/np.trace(Z(N,T,B))\n",
    "v = np.zeros(int(N/2))\n",
    "for i in range (int(N/2)):\n",
    "    v[i] = S(i)\n",
    "N1 = 50\n",
    "T1 = 0.11\n",
    "B1 = 0.01\n",
    "impurity = np.array([[1,0],[0,-1]])\n",
    "def S(j):\n",
    "    s = np.eye(2)\n",
    "    for x in range(N1):\n",
    "        if x == 0:\n",
    "            s = np.dot(s,impurity)\n",
    "        if x == j:\n",
    "            s = np.dot(s,impurity)\n",
    "        s = np.dot(s,R(T1,B1))\n",
    "    return np.trace(s)/np.trace(Z(N1,T1,B1))\n",
    "w = np.zeros(int(N1/2))\n",
    "for i in range (int(N1/2)):\n",
    "    w[i] = S(i)\n",
    "print(\"According to the figures, we find that T can not less than 0.12 in the case N = 50,  B = 0.1\")\n",
    "plt.figure(figsize=(20, 10))\n",
    "plt.subplot(1,2,1)\n",
    "plt.plot(v,'r')\n",
    "plt.title(\"For N = %i T = %.2f B = %i\" %(N,T,B))\n",
    "plt.subplot(1,2,2)\n",
    "plt.plot(w,'b')\n",
    "plt.title(\"For N = %i T = %.2f T1 B = %i\" %(N1,B))\n",
    "plt.show()"
   ]
  },
  {
   "cell_type": "code",
   "execution_count": null,
   "metadata": {},
   "outputs": [],
   "source": [
    "N = 85\n",
    "T = 0.12\n",
    "B = 0.01\n",
    "impurity = np.array([[1,0],[0,-1]])\n",
    "def S(j):\n",
    "    s = np.eye(2)\n",
    "    for x in range(N):\n",
    "        if x == 0:\n",
    "            s = np.dot(s,impurity)\n",
    "        if x == j:\n",
    "            s = np.dot(s,impurity)\n",
    "        s = np.dot(s,R(T,B))\n",
    "    return np.trace(s)/np.trace(Z(N,T,B))\n",
    "v = np.zeros(int(N/2))\n",
    "for i in range (int(N/2)):\n",
    "    v[i] = S(i)\n",
    "N = 84\n",
    "T = 0.12\n",
    "B = 0.01\n",
    "impurity = np.array([[1,0],[0,-1]])\n",
    "def S(j):\n",
    "    s = np.eye(2)\n",
    "    for x in range(N):\n",
    "        if x == 0:\n",
    "            s = np.dot(s,impurity)\n",
    "        if x == j:\n",
    "            s = np.dot(s,impurity)\n",
    "        s = np.dot(s,R(T,B))\n",
    "    return np.trace(s)/np.trace(Z(N,T,B))\n",
    "w = np.zeros(int(N/2))\n",
    "for i in range (int(N/2)):\n",
    "    w[i] = S(i)\n",
    "print(\"According to the figures, we find that N can not more than 84 in the case T = 0.12,  B = 0.1\")\n",
    "plt.figure(figsize=(20, 10))\n",
    "plt.subplot(1,2,1)\n",
    "plt.plot(v,'r')\n",
    "plt.title(\"For N = 85, T = 0.12, B = 0.1\")\n",
    "plt.subplot(1,2,2)\n",
    "plt.plot(w,'b')\n",
    "plt.title(\"For N = 84, T = 0.12, B = 0.1\")\n",
    "plt.show()"
   ]
  },
  {
   "cell_type": "code",
   "execution_count": null,
   "metadata": {},
   "outputs": [],
   "source": []
  }
 ],
 "metadata": {
  "kernelspec": {
   "display_name": "Python 3",
   "language": "python",
   "name": "python3"
  },
  "language_info": {
   "codemirror_mode": {
    "name": "ipython",
    "version": 3
   },
   "file_extension": ".py",
   "mimetype": "text/x-python",
   "name": "python",
   "nbconvert_exporter": "python",
   "pygments_lexer": "ipython3",
   "version": "3.7.4"
  }
 },
 "nbformat": 4,
 "nbformat_minor": 4
}
